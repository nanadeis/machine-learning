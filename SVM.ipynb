{
 "cells": [
  {
   "cell_type": "code",
   "execution_count": 1,
   "metadata": {
    "collapsed": true
   },
   "outputs": [],
   "source": [
    "import numpy as np\n",
    "from sklearn.datasets import load_iris, load_digits,load_wine,load_breast_cancer\n",
    "from sklearn.model_selection import train_test_split\n",
    "import matplotlib.pyplot as plt\n",
    "from sklearn.svm import SVC\n",
    "from sklearn import preprocessing"
   ]
  },
  {
   "cell_type": "markdown",
   "metadata": {},
   "source": [
    "rbf核函数：![image.png](attachment:image.png)"
   ]
  },
  {
   "cell_type": "code",
   "execution_count": 2,
   "metadata": {
    "collapsed": true
   },
   "outputs": [],
   "source": [
    "def kernel_trans(X, x, kernel):\n",
    "    if kernel[0] == \"linear\":\n",
    "        k = np.dot(X, x.T)\n",
    "        return k\n",
    "    elif kernel[0] == 'rbf':\n",
    "        k = np.zeros((X.shape[0], ))\n",
    "        for i in range(X.shape[0]):\n",
    "            k[i] = np.dot(X[i, :] - x, X[i, :] - x)\n",
    "        k = np.exp(k / (-2 * kernel[1] ** 2))\n",
    "        return k"
   ]
  },
  {
   "cell_type": "markdown",
   "metadata": {},
   "source": [
    "![image.png](attachment:image.png)"
   ]
  },
  {
   "cell_type": "code",
   "execution_count": 4,
   "metadata": {
    "collapsed": true
   },
   "outputs": [],
   "source": [
    "def f(i, cache):\n",
    "    return np.dot(cache['K'][i, :], cache['alphas']*cache['y']) + cache['b']"
   ]
  },
  {
   "cell_type": "code",
   "execution_count": 5,
   "metadata": {
    "collapsed": true
   },
   "outputs": [],
   "source": [
    "def E(i, cache):\n",
    "    fxi = f(i, cache)\n",
    "    return fxi - float(cache['y'][i])"
   ]
  },
  {
   "cell_type": "markdown",
   "metadata": {},
   "source": [
    "根据我们之前推导的式子$\\alpha_{2}^{new, unclipped} = \\alpha_{2}^{old} + \\frac{y_{2}(E_{1} - E_{2})}{\\eta}$ 可以知道第二个向量𝑎_𝑗选择使|𝐸_1−𝐸_2 |最大的向量。"
   ]
  },
  {
   "cell_type": "code",
   "execution_count": 6,
   "metadata": {
    "collapsed": true
   },
   "outputs": [],
   "source": [
    "def select_j(i, Ei, cache):\n",
    "    max_j = None\n",
    "    max_sub = 0\n",
    "    max_Ej = None\n",
    "    for j in range(cache['alphas'].shape[0]):\n",
    "        if i == j:\n",
    "            continue\n",
    "        Ej = E(j, cache)\n",
    "        sub = abs(Ei - Ej)\n",
    "        if sub > max_sub:\n",
    "            max_sub = sub\n",
    "            max_Ej = Ej\n",
    "            max_j = j\n",
    "    return max_j, max_Ej"
   ]
  },
  {
   "cell_type": "code",
   "execution_count": 7,
   "metadata": {
    "collapsed": true
   },
   "outputs": [],
   "source": [
    "def clip_alpha(alpha, L, H):\n",
    "    if alpha > H:\n",
    "        alpha = H\n",
    "    elif alpha < L:\n",
    "        alpha = L\n",
    "    return alpha"
   ]
  },
  {
   "cell_type": "markdown",
   "metadata": {},
   "source": [
    "# SMO算法\n",
    "![image.png](attachment:image.png)"
   ]
  },
  {
   "cell_type": "code",
   "execution_count": 9,
   "metadata": {
    "collapsed": true
   },
   "outputs": [],
   "source": [
    "def update_alpha(i, cache):\n",
    "    alphas = cache['alphas']\n",
    "    X = cache['X']\n",
    "    y = cache['y']\n",
    "    Ei = E(i, cache)\n",
    "    if (y[i] * Ei < -cache['toler'] and alphas[i] < cache['C']) or (y[i] * Ei > cache['toler'] and alphas[i] > 0):\n",
    "        j, Ej = select_j(i, Ei, cache)\n",
    "        alpha_i_old = alphas[i].copy()\n",
    "        alpha_j_old = alphas[j].copy()\n",
    "        if y[i] != y[j]:\n",
    "            L = max(0, alphas[j] - alphas[i])\n",
    "            H = min(cache['C'], cache['C'] + alphas[j] - alphas[i])\n",
    "        else:\n",
    "            L = max(0, alphas[j] + alphas[i] - cache['C'])\n",
    "            H = min(cache['C'], alphas[j] + alphas[i])\n",
    "        # if L == H:\n",
    "        #     print(\"L==H\")\n",
    "        #     return 0\n",
    "        kii = cache['K'][i][i]\n",
    "        kjj = cache['K'][j][j]\n",
    "        kij = cache['K'][i][j]\n",
    "        eta = kii + kjj - 2.0 * kij\n",
    "        if eta == 0:\n",
    "            print(\"eta==0\")\n",
    "            return 0\n",
    "        alphas[j] += y[j] * (Ei - Ej) / eta\n",
    "        alphas[j] = clip_alpha(alphas[j], L, H)\n",
    "        if abs(alphas[j] - alpha_j_old) < 0.00001:\n",
    "            # print(\"j not moving enough\")\n",
    "            return 0\n",
    "        alphas[i] += y[i] * y[j] * (alpha_j_old - alphas[j])\n",
    "        b1 = cache['b'] - Ei - y[i] * kii * (alphas[i] - alpha_i_old) - y[j] * kij * (alphas[j] - alpha_j_old)\n",
    "        b2 = cache['b'] - Ej - y[i] * kij * (alphas[i] - alpha_i_old) - y[j] * kjj * (alphas[j] - alpha_j_old)\n",
    "        if 0 < alphas[i] < cache['C']:\n",
    "            cache['b'] = b1\n",
    "        elif 0 < alphas[j] < cache['C']:\n",
    "            cache['b'] = b2\n",
    "        else:\n",
    "            cache['b'] = (b1 + b2) / 2\n",
    "        return 1\n",
    "    else:\n",
    "        return 0"
   ]
  },
  {
   "cell_type": "markdown",
   "metadata": {},
   "source": [
    "![image.png](attachment:image.png)"
   ]
  },
  {
   "cell_type": "code",
   "execution_count": 10,
   "metadata": {
    "collapsed": true
   },
   "outputs": [],
   "source": [
    "class SVM(object):\n",
    "    def __init__(self, kernel=(\"linear\", )):\n",
    "        self.alphas = None\n",
    "        self.b = 0\n",
    "        self.kernel = kernel\n",
    "\n",
    "    def fit(self, X, y, toler, C):\n",
    "        cache = {}\n",
    "        cache['X'] = X\n",
    "        cache['y'] = y\n",
    "        self.y = y\n",
    "        self.X = X\n",
    "        m = y.shape[0]\n",
    "        cache['toler'] = toler\n",
    "        cache['C'] = C\n",
    "        cache['alphas'] = np.zeros((m, 1))\n",
    "        cache['b'] = 0\n",
    "        cache['K'] = np.zeros((m, m))\n",
    "        for i in range(m):\n",
    "            cache['K'][:, i] = kernel_trans(X, X[i, :], self.kernel)\n",
    "        alpha_pairs_changed = 0\n",
    "        entire = True\n",
    "        # 第一个变量的选择为外循环，在整个样本集和非边界样本集间进行交替:\n",
    "        while alpha_pairs_changed > 0 or entire:\n",
    "            alpha_pairs_changed = 0\n",
    "            if entire:\n",
    "                for i in range(X.shape[0]):\n",
    "                    alpha_pairs_changed += update_alpha(i, cache)\n",
    "            else:\n",
    "                non_bound = [i for i in range(m) if 0 < cache['alphas'][i] < cache['C']]\n",
    "                for i in non_bound:\n",
    "                    alpha_pairs_changed += update_alpha(i, cache)\n",
    "            if entire:\n",
    "                entire = False\n",
    "            elif alpha_pairs_changed == 0:\n",
    "                entire = True\n",
    "        self.alphas = cache['alphas']\n",
    "        self.b = cache['b']\n",
    "        print(\"支持向量个数：\", np.sum(cache['alphas'] != 0))\n",
    "        # print(cache['alphas'])\n",
    "\n",
    "    def predict(self, X_test):\n",
    "        pred = []\n",
    "        m = X_test.shape[0]\n",
    "        K = np.zeros((m, self.X.shape[0]))\n",
    "        for i in range(m):\n",
    "            K[:, i] = kernel_trans(X_test, self.X[i, :], self.kernel)\n",
    "        pred = np.dot(K, self.alphas*self.y) + self.b\n",
    "        pred = np.where(pred > 0, 1, -1)\n",
    "        return pred\n",
    "\n",
    "    def evaluate(self, X, y):\n",
    "        pred = self.predict(X)\n",
    "        return np.sum(pred == y) / X.shape[0]"
   ]
  },
  {
   "cell_type": "code",
   "execution_count": 11,
   "metadata": {
    "collapsed": true
   },
   "outputs": [],
   "source": [
    "def plot(X, y, w, b):\n",
    "    # 绘图\n",
    "    fig = plt.figure()\n",
    "    ax = fig.add_subplot(111)\n",
    "    class0 = np.where(y == -1)\n",
    "    class1 = np.where(y == 1)\n",
    "    ax.scatter(X[class0[0], 0], X[class0[0], 1], label=\"class0\")\n",
    "    ax.scatter(X[class1[0], 0], X[class1[0], 1], label=\"class1\")\n",
    "\n",
    "    x = range(int(min(X[:, 0])), int(max(X[:, 0])) + 1)\n",
    "    y = (-b - w[0] * x) / w[1]\n",
    "    ax.plot(x, y)\n",
    "    plt.show()"
   ]
  },
  {
   "cell_type": "code",
   "execution_count": 16,
   "metadata": {},
   "outputs": [
    {
     "name": "stdout",
     "output_type": "stream",
     "text": [
      "(569, 30) (569,)\n",
      "(398, 30) (398, 1) (171, 30) (171, 1)\n",
      "支持向量个数： 6\n",
      "linear_train_score； 0.891959798995\n",
      "linear_test_score: 0.719298245614\n",
      "支持向量个数： 286\n",
      "rbf_train_score； 0.962311557789\n",
      "rbf_test_score: 0.894736842105\n",
      "sklearn train: 0.992462311558\n",
      "sklearn test: 0.947368421053\n"
     ]
    },
    {
     "name": "stderr",
     "output_type": "stream",
     "text": [
      "E:\\software\\Anaconda\\anaconda\\lib\\site-packages\\sklearn\\utils\\validation.py:578: DataConversionWarning: A column-vector y was passed when a 1d array was expected. Please change the shape of y to (n_samples, ), for example using ravel().\n",
      "  y = column_or_1d(y, warn=True)\n"
     ]
    }
   ],
   "source": [
    "# X, y = load_iris(return_X_y=True)\n",
    "# X, y = X[:100, :], y[:100]\n",
    "X, y = load_breast_cancer(return_X_y=True)\n",
    "X = preprocessing.scale(X)\n",
    "print(X.shape, y.shape)\n",
    "y = np.where(y == 0, -1, 1).reshape(y.shape[0], 1)\n",
    "X_train, X_test, y_train, y_test = train_test_split(X, y, shuffle=True, test_size=0.3)\n",
    "# X_train, X_test, y_train, y_test = X[0:398, :], X[398:, :], y[0:398], y[398:]\n",
    "print(X_train.shape, y_train.shape, X_test.shape, y_test.shape)\n",
    "svm_linear = SVM()\n",
    "svm_linear.fit(X_train, y_train, 0.001, 1)\n",
    "pred = svm_linear.predict(X_test)\n",
    "score = svm_linear.evaluate(X_train, y_train)\n",
    "print(\"linear_train_score；\", score)\n",
    "score = svm_linear.evaluate(X_test, y_test)\n",
    "print(\"linear_test_score:\", score)\n",
    "svm_rbf = SVM(kernel=('rbf', 0.1))\n",
    "svm_rbf.fit(X_train, y_train, 0.001, 1)\n",
    "pred = svm_rbf.predict(X_test)\n",
    "score = svm_rbf.evaluate(X_train, y_train)\n",
    "print(\"rbf_train_score；\", score)\n",
    "score = svm_rbf.evaluate(X_test, y_test)\n",
    "print(\"rbf_test_score:\", score)\n",
    "# plot(X_train, y_train, mysvm.w, mysvm.b)\n",
    "# plot(X_test, y_test, mysvm.w, mysvm.b)\n",
    "\n",
    "sk_svm = SVC()\n",
    "sk_svm.fit(X_train, y_train)\n",
    "sk_svm.predict(X_test)\n",
    "print(\"sklearn train:\", sk_svm.score(X_train, y_train))\n",
    "print(\"sklearn test:\", sk_svm.score(X_test, y_test))"
   ]
  },
  {
   "cell_type": "code",
   "execution_count": null,
   "metadata": {
    "collapsed": true
   },
   "outputs": [],
   "source": []
  }
 ],
 "metadata": {
  "kernelspec": {
   "display_name": "Python 3",
   "language": "python",
   "name": "python3"
  },
  "language_info": {
   "codemirror_mode": {
    "name": "ipython",
    "version": 3
   },
   "file_extension": ".py",
   "mimetype": "text/x-python",
   "name": "python",
   "nbconvert_exporter": "python",
   "pygments_lexer": "ipython3",
   "version": "3.5.4"
  }
 },
 "nbformat": 4,
 "nbformat_minor": 2
}
